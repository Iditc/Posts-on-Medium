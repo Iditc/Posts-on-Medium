{
 "cells": [
  {
   "cell_type": "code",
   "execution_count": 1,
   "id": "30086a7f",
   "metadata": {},
   "outputs": [],
   "source": [
    "import pandas as pd\n",
    "import matplotlib.pyplot as plt\n",
    "from sklearn.model_selection import train_test_split\n",
    "from sklearn.ensemble import RandomForestClassifier\n",
    "from sklearn.ensemble import GradientBoostingClassifier\n",
    "from sklearn.ensemble import HistGradientBoostingClassifier\n",
    "from sklearn.metrics import confusion_matrix, roc_curve, roc_auc_score, ConfusionMatrixDisplay\n",
    "from sklearn.metrics import precision_score, f1_score, recall_score, accuracy_score\n",
    "from sklearn.tree import DecisionTreeClassifier\n",
    "import numpy as np\n",
    "import shap"
   ]
  },
  {
   "cell_type": "code",
   "execution_count": 2,
   "id": "99d98646",
   "metadata": {},
   "outputs": [],
   "source": [
    "def one_hot_fun(pandas_series):    \n",
    "    # Apply one-hot encoding\n",
    "    one_hot = pd.get_dummies(pandas_series)\n",
    "    return(one_hot)"
   ]
  },
  {
   "cell_type": "code",
   "execution_count": 3,
   "id": "a7244d46",
   "metadata": {},
   "outputs": [],
   "source": [
    "from sklearn.preprocessing import LabelEncoder\n",
    "# Label encoding: In this method, each category is assigned a unique numerical value. \n",
    "def Label_Encoder(pandas_series):\n",
    "    le = LabelEncoder()\n",
    "    label_encoded = le.fit_transform(pandas_series)\n",
    "    return(label_encoded)"
   ]
  },
  {
   "cell_type": "code",
   "execution_count": 4,
   "id": "d4968112",
   "metadata": {},
   "outputs": [],
   "source": [
    "# Target encoding: In this method, each category is replaced with the average target value \n",
    "def Target_Encoder(pandas_series, Target_series):\n",
    "    encoder = ce.TargetEncoder(cols=pandas_series.name)\n",
    "    target_encoded = encoder.fit_transform(pandas_series, Target_series)\n",
    "    return(target_encoded)"
   ]
  },
  {
   "cell_type": "code",
   "execution_count": 5,
   "id": "0f2b8335",
   "metadata": {},
   "outputs": [],
   "source": [
    "# Frequency encoding: In this method, each category is replaced by the frequency of that category in the dataset\n",
    "def Count_Encoder(pandas_series):    \n",
    "    encoder = ce.CountEncoder(cols=pandas_series.name)\n",
    "    freq_encoded = encoder.fit_transform(pandas_series)\n",
    "    return(freq_encoded)"
   ]
  },
  {
   "cell_type": "code",
   "execution_count": 6,
   "id": "dfd26f85",
   "metadata": {},
   "outputs": [],
   "source": [
    "import category_encoders as ce\n",
    "# Binary encoding: In this method, each category is represented by a binary code.\n",
    "# For example, \"red\" could be represented as 00, \"green\" as 01, \"blue\" as 10. \n",
    "def Binary_Encoded(pandas_series):\n",
    "    encoder = ce.BinaryEncoder(cols=pandas_series.name)\n",
    "    binary_encoded = encoder.fit_transform(pandas_series)\n",
    "    return(binary_encoded)"
   ]
  },
  {
   "cell_type": "code",
   "execution_count": 7,
   "id": "065cf183",
   "metadata": {},
   "outputs": [
    {
     "data": {
      "text/html": [
       "<div>\n",
       "<style scoped>\n",
       "    .dataframe tbody tr th:only-of-type {\n",
       "        vertical-align: middle;\n",
       "    }\n",
       "\n",
       "    .dataframe tbody tr th {\n",
       "        vertical-align: top;\n",
       "    }\n",
       "\n",
       "    .dataframe thead th {\n",
       "        text-align: right;\n",
       "    }\n",
       "</style>\n",
       "<table border=\"1\" class=\"dataframe\">\n",
       "  <thead>\n",
       "    <tr style=\"text-align: right;\">\n",
       "      <th></th>\n",
       "      <th>ID</th>\n",
       "      <th>Marital Status</th>\n",
       "      <th>Gender</th>\n",
       "      <th>Income</th>\n",
       "      <th>Children</th>\n",
       "      <th>Education</th>\n",
       "      <th>Occupation</th>\n",
       "      <th>Home Owner</th>\n",
       "      <th>Cars</th>\n",
       "      <th>Commute Distance</th>\n",
       "      <th>Region</th>\n",
       "      <th>Age</th>\n",
       "      <th>Purchased Bike</th>\n",
       "    </tr>\n",
       "  </thead>\n",
       "  <tbody>\n",
       "    <tr>\n",
       "      <th>0</th>\n",
       "      <td>12496</td>\n",
       "      <td>Married</td>\n",
       "      <td>Female</td>\n",
       "      <td>40000.0</td>\n",
       "      <td>1.0</td>\n",
       "      <td>Bachelors</td>\n",
       "      <td>Skilled Manual</td>\n",
       "      <td>Yes</td>\n",
       "      <td>0.0</td>\n",
       "      <td>0-1 Miles</td>\n",
       "      <td>Europe</td>\n",
       "      <td>42.0</td>\n",
       "      <td>No</td>\n",
       "    </tr>\n",
       "    <tr>\n",
       "      <th>1</th>\n",
       "      <td>24107</td>\n",
       "      <td>Married</td>\n",
       "      <td>Male</td>\n",
       "      <td>30000.0</td>\n",
       "      <td>3.0</td>\n",
       "      <td>Partial College</td>\n",
       "      <td>Clerical</td>\n",
       "      <td>Yes</td>\n",
       "      <td>1.0</td>\n",
       "      <td>0-1 Miles</td>\n",
       "      <td>Europe</td>\n",
       "      <td>43.0</td>\n",
       "      <td>No</td>\n",
       "    </tr>\n",
       "    <tr>\n",
       "      <th>2</th>\n",
       "      <td>14177</td>\n",
       "      <td>Married</td>\n",
       "      <td>Male</td>\n",
       "      <td>80000.0</td>\n",
       "      <td>5.0</td>\n",
       "      <td>Partial College</td>\n",
       "      <td>Professional</td>\n",
       "      <td>No</td>\n",
       "      <td>2.0</td>\n",
       "      <td>2-5 Miles</td>\n",
       "      <td>Europe</td>\n",
       "      <td>60.0</td>\n",
       "      <td>No</td>\n",
       "    </tr>\n",
       "    <tr>\n",
       "      <th>3</th>\n",
       "      <td>24381</td>\n",
       "      <td>Single</td>\n",
       "      <td>NaN</td>\n",
       "      <td>70000.0</td>\n",
       "      <td>0.0</td>\n",
       "      <td>Bachelors</td>\n",
       "      <td>Professional</td>\n",
       "      <td>Yes</td>\n",
       "      <td>1.0</td>\n",
       "      <td>5-10 Miles</td>\n",
       "      <td>Pacific</td>\n",
       "      <td>41.0</td>\n",
       "      <td>Yes</td>\n",
       "    </tr>\n",
       "    <tr>\n",
       "      <th>4</th>\n",
       "      <td>25597</td>\n",
       "      <td>Single</td>\n",
       "      <td>Male</td>\n",
       "      <td>30000.0</td>\n",
       "      <td>0.0</td>\n",
       "      <td>Bachelors</td>\n",
       "      <td>Clerical</td>\n",
       "      <td>No</td>\n",
       "      <td>0.0</td>\n",
       "      <td>0-1 Miles</td>\n",
       "      <td>Europe</td>\n",
       "      <td>36.0</td>\n",
       "      <td>Yes</td>\n",
       "    </tr>\n",
       "  </tbody>\n",
       "</table>\n",
       "</div>"
      ],
      "text/plain": [
       "      ID Marital Status  Gender   Income  Children        Education  \\\n",
       "0  12496        Married  Female  40000.0       1.0        Bachelors   \n",
       "1  24107        Married    Male  30000.0       3.0  Partial College   \n",
       "2  14177        Married    Male  80000.0       5.0  Partial College   \n",
       "3  24381         Single     NaN  70000.0       0.0        Bachelors   \n",
       "4  25597         Single    Male  30000.0       0.0        Bachelors   \n",
       "\n",
       "       Occupation Home Owner  Cars Commute Distance   Region   Age  \\\n",
       "0  Skilled Manual        Yes   0.0        0-1 Miles   Europe  42.0   \n",
       "1        Clerical        Yes   1.0        0-1 Miles   Europe  43.0   \n",
       "2    Professional         No   2.0        2-5 Miles   Europe  60.0   \n",
       "3    Professional        Yes   1.0       5-10 Miles  Pacific  41.0   \n",
       "4        Clerical         No   0.0        0-1 Miles   Europe  36.0   \n",
       "\n",
       "  Purchased Bike  \n",
       "0             No  \n",
       "1             No  \n",
       "2             No  \n",
       "3            Yes  \n",
       "4            Yes  "
      ]
     },
     "execution_count": 7,
     "metadata": {},
     "output_type": "execute_result"
    }
   ],
   "source": [
    "df = pd.read_csv('bike_buyers.csv')\n",
    "df.head()"
   ]
  },
  {
   "cell_type": "code",
   "execution_count": 8,
   "id": "e1d73356",
   "metadata": {},
   "outputs": [
    {
     "name": "stdout",
     "output_type": "stream",
     "text": [
      "<class 'pandas.core.frame.DataFrame'>\n",
      "RangeIndex: 1000 entries, 0 to 999\n",
      "Data columns (total 13 columns):\n",
      " #   Column            Non-Null Count  Dtype  \n",
      "---  ------            --------------  -----  \n",
      " 0   ID                1000 non-null   int64  \n",
      " 1   Marital Status    993 non-null    object \n",
      " 2   Gender            989 non-null    object \n",
      " 3   Income            994 non-null    float64\n",
      " 4   Children          992 non-null    float64\n",
      " 5   Education         1000 non-null   object \n",
      " 6   Occupation        1000 non-null   object \n",
      " 7   Home Owner        996 non-null    object \n",
      " 8   Cars              991 non-null    float64\n",
      " 9   Commute Distance  1000 non-null   object \n",
      " 10  Region            1000 non-null   object \n",
      " 11  Age               992 non-null    float64\n",
      " 12  Purchased Bike    1000 non-null   object \n",
      "dtypes: float64(4), int64(1), object(8)\n",
      "memory usage: 101.7+ KB\n"
     ]
    }
   ],
   "source": [
    "df.info()"
   ]
  },
  {
   "cell_type": "markdown",
   "id": "8aaf575b",
   "metadata": {},
   "source": [
    "The database is unbalanced"
   ]
  },
  {
   "cell_type": "code",
   "execution_count": 9,
   "id": "c64b1a18",
   "metadata": {},
   "outputs": [
    {
     "data": {
      "text/plain": [
       "No     519\n",
       "Yes    481\n",
       "Name: Purchased Bike, dtype: int64"
      ]
     },
     "execution_count": 9,
     "metadata": {},
     "output_type": "execute_result"
    }
   ],
   "source": [
    "df['Purchased Bike'].value_counts()"
   ]
  },
  {
   "cell_type": "markdown",
   "id": "bce423db",
   "metadata": {},
   "source": [
    "## Fill NaN "
   ]
  },
  {
   "cell_type": "markdown",
   "id": "fa812485",
   "metadata": {},
   "source": [
    "Analyzing Numerical Variables"
   ]
  },
  {
   "cell_type": "code",
   "execution_count": 10,
   "id": "ea98fb63",
   "metadata": {},
   "outputs": [
    {
     "name": "stdout",
     "output_type": "stream",
     "text": [
      "There are 5 numerical variables\n",
      "The numerical variables are : ['ID', 'Income', 'Children', 'Cars', 'Age']\n"
     ]
    }
   ],
   "source": [
    "numerical = [var for var in df.columns if df[var].dtype!='O']\n",
    "print('There are {} numerical variables'.format(len(numerical)))\n",
    "print('The numerical variables are :', numerical)"
   ]
  },
  {
   "cell_type": "code",
   "execution_count": 11,
   "id": "1f293a59",
   "metadata": {},
   "outputs": [
    {
     "data": {
      "text/plain": [
       "ID          0\n",
       "Income      6\n",
       "Children    8\n",
       "Cars        9\n",
       "Age         8\n",
       "dtype: int64"
      ]
     },
     "execution_count": 11,
     "metadata": {},
     "output_type": "execute_result"
    }
   ],
   "source": [
    "# check missing values in numerical variables\n",
    "df[numerical].isnull().sum()"
   ]
  },
  {
   "cell_type": "code",
   "execution_count": 12,
   "id": "431a516e",
   "metadata": {},
   "outputs": [],
   "source": [
    "df['Income'].fillna(df['Income'], inplace = True)\n",
    "df['Children'].fillna(df['Children'].median(), inplace = True)\n",
    "df['Cars'].fillna(df['Cars'], inplace = True)\n",
    "df['Age'].fillna(df['Age'].mean(), inplace = True)"
   ]
  },
  {
   "cell_type": "markdown",
   "id": "6e577cf4",
   "metadata": {},
   "source": [
    "Analyzing Categorical Variables"
   ]
  },
  {
   "cell_type": "code",
   "execution_count": 13,
   "id": "15fae385",
   "metadata": {},
   "outputs": [
    {
     "name": "stdout",
     "output_type": "stream",
     "text": [
      "There are 8 categorical variables\n",
      "The categorical variables are : ['Marital Status', 'Gender', 'Education', 'Occupation', 'Home Owner', 'Commute Distance', 'Region', 'Purchased Bike']\n"
     ]
    }
   ],
   "source": [
    "categorical = [var for var in df.columns if df[var].dtype=='O']\n",
    "print('There are {} categorical variables'.format(len(categorical)))\n",
    "print('The categorical variables are :', categorical)"
   ]
  },
  {
   "cell_type": "code",
   "execution_count": 14,
   "id": "fb509fbd",
   "metadata": {},
   "outputs": [
    {
     "data": {
      "text/plain": [
       "Marital Status       7\n",
       "Gender              11\n",
       "Education            0\n",
       "Occupation           0\n",
       "Home Owner           4\n",
       "Commute Distance     0\n",
       "Region               0\n",
       "Purchased Bike       0\n",
       "dtype: int64"
      ]
     },
     "execution_count": 14,
     "metadata": {},
     "output_type": "execute_result"
    }
   ],
   "source": [
    "df[categorical].isnull().sum()"
   ]
  },
  {
   "cell_type": "code",
   "execution_count": 15,
   "id": "621395bc",
   "metadata": {},
   "outputs": [],
   "source": [
    "for col in df.columns:\n",
    "    s = df[col].value_counts(normalize=True)\n",
    "    missing = df[col].isnull()\n",
    "    df.loc[missing,col] = np.random.choice(s.index, size=len(df[missing]),p=s.values)"
   ]
  },
  {
   "cell_type": "code",
   "execution_count": 16,
   "id": "2630eb3b",
   "metadata": {},
   "outputs": [
    {
     "data": {
      "text/plain": [
       "Marital Status      0\n",
       "Gender              0\n",
       "Education           0\n",
       "Occupation          0\n",
       "Home Owner          0\n",
       "Commute Distance    0\n",
       "Region              0\n",
       "Purchased Bike      0\n",
       "dtype: int64"
      ]
     },
     "execution_count": 16,
     "metadata": {},
     "output_type": "execute_result"
    }
   ],
   "source": [
    "df[categorical].isnull().sum()"
   ]
  },
  {
   "cell_type": "code",
   "execution_count": 17,
   "id": "54ceccf9",
   "metadata": {},
   "outputs": [
    {
     "data": {
      "text/html": [
       "<div>\n",
       "<style scoped>\n",
       "    .dataframe tbody tr th:only-of-type {\n",
       "        vertical-align: middle;\n",
       "    }\n",
       "\n",
       "    .dataframe tbody tr th {\n",
       "        vertical-align: top;\n",
       "    }\n",
       "\n",
       "    .dataframe thead th {\n",
       "        text-align: right;\n",
       "    }\n",
       "</style>\n",
       "<table border=\"1\" class=\"dataframe\">\n",
       "  <thead>\n",
       "    <tr style=\"text-align: right;\">\n",
       "      <th></th>\n",
       "      <th>ID</th>\n",
       "      <th>Marital Status</th>\n",
       "      <th>Gender</th>\n",
       "      <th>Income</th>\n",
       "      <th>Children</th>\n",
       "      <th>Education</th>\n",
       "      <th>Occupation</th>\n",
       "      <th>Home Owner</th>\n",
       "      <th>Cars</th>\n",
       "      <th>Commute Distance</th>\n",
       "      <th>Region</th>\n",
       "      <th>Age</th>\n",
       "      <th>Purchased Bike</th>\n",
       "    </tr>\n",
       "  </thead>\n",
       "  <tbody>\n",
       "    <tr>\n",
       "      <th>0</th>\n",
       "      <td>12496</td>\n",
       "      <td>Married</td>\n",
       "      <td>Female</td>\n",
       "      <td>40000.0</td>\n",
       "      <td>1.0</td>\n",
       "      <td>Bachelors</td>\n",
       "      <td>Skilled Manual</td>\n",
       "      <td>Yes</td>\n",
       "      <td>0.0</td>\n",
       "      <td>0-1 Miles</td>\n",
       "      <td>Europe</td>\n",
       "      <td>42.0</td>\n",
       "      <td>No</td>\n",
       "    </tr>\n",
       "    <tr>\n",
       "      <th>1</th>\n",
       "      <td>24107</td>\n",
       "      <td>Married</td>\n",
       "      <td>Male</td>\n",
       "      <td>30000.0</td>\n",
       "      <td>3.0</td>\n",
       "      <td>Partial College</td>\n",
       "      <td>Clerical</td>\n",
       "      <td>Yes</td>\n",
       "      <td>1.0</td>\n",
       "      <td>0-1 Miles</td>\n",
       "      <td>Europe</td>\n",
       "      <td>43.0</td>\n",
       "      <td>No</td>\n",
       "    </tr>\n",
       "    <tr>\n",
       "      <th>2</th>\n",
       "      <td>14177</td>\n",
       "      <td>Married</td>\n",
       "      <td>Male</td>\n",
       "      <td>80000.0</td>\n",
       "      <td>5.0</td>\n",
       "      <td>Partial College</td>\n",
       "      <td>Professional</td>\n",
       "      <td>No</td>\n",
       "      <td>2.0</td>\n",
       "      <td>2-5 Miles</td>\n",
       "      <td>Europe</td>\n",
       "      <td>60.0</td>\n",
       "      <td>No</td>\n",
       "    </tr>\n",
       "    <tr>\n",
       "      <th>3</th>\n",
       "      <td>24381</td>\n",
       "      <td>Single</td>\n",
       "      <td>Female</td>\n",
       "      <td>70000.0</td>\n",
       "      <td>0.0</td>\n",
       "      <td>Bachelors</td>\n",
       "      <td>Professional</td>\n",
       "      <td>Yes</td>\n",
       "      <td>1.0</td>\n",
       "      <td>5-10 Miles</td>\n",
       "      <td>Pacific</td>\n",
       "      <td>41.0</td>\n",
       "      <td>Yes</td>\n",
       "    </tr>\n",
       "    <tr>\n",
       "      <th>4</th>\n",
       "      <td>25597</td>\n",
       "      <td>Single</td>\n",
       "      <td>Male</td>\n",
       "      <td>30000.0</td>\n",
       "      <td>0.0</td>\n",
       "      <td>Bachelors</td>\n",
       "      <td>Clerical</td>\n",
       "      <td>No</td>\n",
       "      <td>0.0</td>\n",
       "      <td>0-1 Miles</td>\n",
       "      <td>Europe</td>\n",
       "      <td>36.0</td>\n",
       "      <td>Yes</td>\n",
       "    </tr>\n",
       "  </tbody>\n",
       "</table>\n",
       "</div>"
      ],
      "text/plain": [
       "      ID Marital Status  Gender   Income  Children        Education  \\\n",
       "0  12496        Married  Female  40000.0       1.0        Bachelors   \n",
       "1  24107        Married    Male  30000.0       3.0  Partial College   \n",
       "2  14177        Married    Male  80000.0       5.0  Partial College   \n",
       "3  24381         Single  Female  70000.0       0.0        Bachelors   \n",
       "4  25597         Single    Male  30000.0       0.0        Bachelors   \n",
       "\n",
       "       Occupation Home Owner  Cars Commute Distance   Region   Age  \\\n",
       "0  Skilled Manual        Yes   0.0        0-1 Miles   Europe  42.0   \n",
       "1        Clerical        Yes   1.0        0-1 Miles   Europe  43.0   \n",
       "2    Professional         No   2.0        2-5 Miles   Europe  60.0   \n",
       "3    Professional        Yes   1.0       5-10 Miles  Pacific  41.0   \n",
       "4        Clerical         No   0.0        0-1 Miles   Europe  36.0   \n",
       "\n",
       "  Purchased Bike  \n",
       "0             No  \n",
       "1             No  \n",
       "2             No  \n",
       "3            Yes  \n",
       "4            Yes  "
      ]
     },
     "execution_count": 17,
     "metadata": {},
     "output_type": "execute_result"
    }
   ],
   "source": [
    "df.head()"
   ]
  },
  {
   "cell_type": "markdown",
   "id": "e99eee69",
   "metadata": {},
   "source": [
    "## one-hot encoding"
   ]
  },
  {
   "cell_type": "code",
   "execution_count": 18,
   "id": "a95ae0af",
   "metadata": {},
   "outputs": [
    {
     "data": {
      "text/plain": [
       "Bachelors              306\n",
       "Partial College        265\n",
       "High School            179\n",
       "Graduate Degree        174\n",
       "Partial High School     76\n",
       "Name: Education, dtype: int64"
      ]
     },
     "execution_count": 18,
     "metadata": {},
     "output_type": "execute_result"
    }
   ],
   "source": [
    "df['Education'].value_counts()"
   ]
  },
  {
   "cell_type": "code",
   "execution_count": 19,
   "id": "b9834fd8",
   "metadata": {},
   "outputs": [
    {
     "data": {
      "text/plain": [
       "0          Bachelors\n",
       "1    Partial College\n",
       "2    Partial College\n",
       "3          Bachelors\n",
       "4          Bachelors\n",
       "Name: Education, dtype: object"
      ]
     },
     "execution_count": 19,
     "metadata": {},
     "output_type": "execute_result"
    }
   ],
   "source": [
    "df['Education'].head()"
   ]
  },
  {
   "cell_type": "code",
   "execution_count": 20,
   "id": "d06e3558",
   "metadata": {},
   "outputs": [],
   "source": [
    "df = pd.concat([df, one_hot_fun(df['Education'])], axis=1)"
   ]
  },
  {
   "cell_type": "code",
   "execution_count": 21,
   "id": "bb377a8e",
   "metadata": {},
   "outputs": [
    {
     "data": {
      "text/html": [
       "<div>\n",
       "<style scoped>\n",
       "    .dataframe tbody tr th:only-of-type {\n",
       "        vertical-align: middle;\n",
       "    }\n",
       "\n",
       "    .dataframe tbody tr th {\n",
       "        vertical-align: top;\n",
       "    }\n",
       "\n",
       "    .dataframe thead th {\n",
       "        text-align: right;\n",
       "    }\n",
       "</style>\n",
       "<table border=\"1\" class=\"dataframe\">\n",
       "  <thead>\n",
       "    <tr style=\"text-align: right;\">\n",
       "      <th></th>\n",
       "      <th>Bachelors</th>\n",
       "      <th>Graduate Degree</th>\n",
       "      <th>High School</th>\n",
       "      <th>Partial College</th>\n",
       "      <th>Partial High School</th>\n",
       "    </tr>\n",
       "  </thead>\n",
       "  <tbody>\n",
       "    <tr>\n",
       "      <th>0</th>\n",
       "      <td>1</td>\n",
       "      <td>0</td>\n",
       "      <td>0</td>\n",
       "      <td>0</td>\n",
       "      <td>0</td>\n",
       "    </tr>\n",
       "    <tr>\n",
       "      <th>1</th>\n",
       "      <td>0</td>\n",
       "      <td>0</td>\n",
       "      <td>0</td>\n",
       "      <td>1</td>\n",
       "      <td>0</td>\n",
       "    </tr>\n",
       "    <tr>\n",
       "      <th>2</th>\n",
       "      <td>0</td>\n",
       "      <td>0</td>\n",
       "      <td>0</td>\n",
       "      <td>1</td>\n",
       "      <td>0</td>\n",
       "    </tr>\n",
       "    <tr>\n",
       "      <th>3</th>\n",
       "      <td>1</td>\n",
       "      <td>0</td>\n",
       "      <td>0</td>\n",
       "      <td>0</td>\n",
       "      <td>0</td>\n",
       "    </tr>\n",
       "    <tr>\n",
       "      <th>4</th>\n",
       "      <td>1</td>\n",
       "      <td>0</td>\n",
       "      <td>0</td>\n",
       "      <td>0</td>\n",
       "      <td>0</td>\n",
       "    </tr>\n",
       "  </tbody>\n",
       "</table>\n",
       "</div>"
      ],
      "text/plain": [
       "   Bachelors  Graduate Degree  High School  Partial College  \\\n",
       "0          1                0            0                0   \n",
       "1          0                0            0                1   \n",
       "2          0                0            0                1   \n",
       "3          1                0            0                0   \n",
       "4          1                0            0                0   \n",
       "\n",
       "   Partial High School  \n",
       "0                    0  \n",
       "1                    0  \n",
       "2                    0  \n",
       "3                    0  \n",
       "4                    0  "
      ]
     },
     "execution_count": 21,
     "metadata": {},
     "output_type": "execute_result"
    }
   ],
   "source": [
    "df[['Bachelors', 'Graduate Degree', 'High School', 'Partial College', 'Partial High School']].head()"
   ]
  },
  {
   "cell_type": "markdown",
   "id": "50b89ec3",
   "metadata": {},
   "source": [
    "## Label Encoder"
   ]
  },
  {
   "cell_type": "code",
   "execution_count": null,
   "id": "07ab62a2",
   "metadata": {},
   "outputs": [],
   "source": [
    "df['Education'].value_counts()"
   ]
  },
  {
   "cell_type": "code",
   "execution_count": null,
   "id": "29e94f39",
   "metadata": {},
   "outputs": [],
   "source": [
    "df['Education'] = Label_Encoder(df['Education'])"
   ]
  },
  {
   "cell_type": "code",
   "execution_count": null,
   "id": "3474a926",
   "metadata": {},
   "outputs": [],
   "source": [
    "df['Education'].value_counts()_____+"
   ]
  },
  {
   "cell_type": "markdown",
   "id": "5550f640",
   "metadata": {},
   "source": [
    "## Target Encoder"
   ]
  },
  {
   "cell_type": "code",
   "execution_count": null,
   "id": "3a90d45f",
   "metadata": {},
   "outputs": [],
   "source": [
    "df['Education'].value_counts()"
   ]
  },
  {
   "cell_type": "code",
   "execution_count": null,
   "id": "359f8df3",
   "metadata": {},
   "outputs": [],
   "source": [
    "df['Education'] = Target_Encoder(df['Education'], df['Income'])"
   ]
  },
  {
   "cell_type": "code",
   "execution_count": null,
   "id": "50eab0ea",
   "metadata": {},
   "outputs": [],
   "source": [
    "df['Education'].value_counts()"
   ]
  },
  {
   "cell_type": "markdown",
   "id": "e0a48d94",
   "metadata": {},
   "source": [
    "## Count Encoder"
   ]
  },
  {
   "cell_type": "code",
   "execution_count": null,
   "id": "1ae7f8a6",
   "metadata": {},
   "outputs": [],
   "source": [
    "df['Education'] = Count_Encoder(df['Education'])"
   ]
  },
  {
   "cell_type": "code",
   "execution_count": null,
   "id": "57ee0b7b",
   "metadata": {},
   "outputs": [],
   "source": [
    "df['Education'].value_counts()"
   ]
  },
  {
   "cell_type": "markdown",
   "id": "9058863b",
   "metadata": {},
   "source": [
    "## Binary Encoded"
   ]
  },
  {
   "cell_type": "code",
   "execution_count": null,
   "id": "65fec63c",
   "metadata": {},
   "outputs": [],
   "source": [
    "df = pd.concat([df, Binary_Encoded(df['Education'])], axis=1)"
   ]
  },
  {
   "cell_type": "code",
   "execution_count": null,
   "id": "503e984e",
   "metadata": {},
   "outputs": [],
   "source": [
    "df[['Education_0','Education_1', 'Education_2']].value_counts()"
   ]
  },
  {
   "cell_type": "code",
   "execution_count": null,
   "id": "729fcb05",
   "metadata": {},
   "outputs": [],
   "source": [
    "from sklearn.preprocessing import LabelEncoder\n",
    "# Label encoding: In this method, each category is assigned a unique numerical value. \n",
    "def Label_Encoder(pandas_series):\n",
    "    le = LabelEncoder()\n",
    "    label_encoded = le.fit_transform(pandas_series)\n",
    "    return(label_encoded)"
   ]
  },
  {
   "cell_type": "code",
   "execution_count": null,
   "id": "db7c78f0",
   "metadata": {},
   "outputs": [],
   "source": [
    "for var in categorical:\n",
    "    df[var] = Label_Encoder(df[var])"
   ]
  },
  {
   "cell_type": "code",
   "execution_count": null,
   "id": "f1086eac",
   "metadata": {},
   "outputs": [],
   "source": [
    "df.describe()"
   ]
  },
  {
   "cell_type": "code",
   "execution_count": null,
   "id": "8d13e661",
   "metadata": {},
   "outputs": [],
   "source": [
    "plt.hist(df['Marital Status'], bins = 12);"
   ]
  },
  {
   "cell_type": "markdown",
   "id": "71249559",
   "metadata": {},
   "source": [
    "Building the model"
   ]
  },
  {
   "cell_type": "code",
   "execution_count": null,
   "id": "c427bd6c",
   "metadata": {},
   "outputs": [],
   "source": [
    "y = df['Purchased Bike'].copy()\n",
    "X = df.drop(['Purchased Bike', 'ID'], axis=1)\n",
    "class_names = ['Biker', 'No_Biker'] "
   ]
  },
  {
   "cell_type": "markdown",
   "id": "7e7364ed",
   "metadata": {},
   "source": [
    "train test split using stratify=y to deal with the unbalanced dataset"
   ]
  },
  {
   "cell_type": "code",
   "execution_count": null,
   "id": "e0094a91",
   "metadata": {},
   "outputs": [],
   "source": [
    "X_train, X_test, y_train, y_test = train_test_split(X, y, test_size=0.20, random_state=42, stratify=y)\n",
    "clf = HistGradientBoostingClassifier()\n",
    "clf.fit(X_train, y_train)"
   ]
  },
  {
   "cell_type": "code",
   "execution_count": null,
   "id": "016317a7",
   "metadata": {},
   "outputs": [],
   "source": [
    "y_predict = clf.predict(X_test)"
   ]
  },
  {
   "cell_type": "markdown",
   "id": "4ba32bdd",
   "metadata": {},
   "source": [
    "metric scoring"
   ]
  },
  {
   "cell_type": "code",
   "execution_count": null,
   "id": "186cd35a",
   "metadata": {},
   "outputs": [],
   "source": [
    "def metrics_scoring(y_test, y_pred):\n",
    "    recall = recall_score(y_test, y_pred, average='weighted')\n",
    "    precision = precision_score(y_test, y_pred, average='weighted')\n",
    "    accuracy = accuracy_score(y_test, y_pred)\n",
    "    return precision, accuracy"
   ]
  },
  {
   "cell_type": "code",
   "execution_count": null,
   "id": "7071ece1",
   "metadata": {},
   "outputs": [],
   "source": [
    "precision, accuracy = metrics_scoring(y_test, y_predict)\n",
    "precision, accuracy"
   ]
  },
  {
   "cell_type": "code",
   "execution_count": null,
   "id": "cf265901",
   "metadata": {},
   "outputs": [],
   "source": [
    "f1 = f1_score(y_test, y_predict, average='weighted')\n",
    "f1"
   ]
  },
  {
   "cell_type": "code",
   "execution_count": null,
   "id": "a6c1089f",
   "metadata": {},
   "outputs": [],
   "source": [
    "def cm_display(y_test, y_pred):\n",
    "    cm = confusion_matrix(y_test, y_pred)\n",
    "    ConfusionMatrixDisplay(cm).plot()"
   ]
  },
  {
   "cell_type": "code",
   "execution_count": null,
   "id": "608c2271",
   "metadata": {},
   "outputs": [],
   "source": [
    "cm_display(y_test, y_predict)"
   ]
  },
  {
   "cell_type": "markdown",
   "id": "32c0935b",
   "metadata": {},
   "source": [
    "finding best threshold"
   ]
  },
  {
   "cell_type": "code",
   "execution_count": null,
   "id": "b62b5d75",
   "metadata": {},
   "outputs": [],
   "source": [
    "def roc_auc(X_test, y_test, clf, threshold):\n",
    "    # define metrics\n",
    "    y_pred_proba = clf.predict_proba(X_test)[::, 1]\n",
    "    y_pred = [1 if x >= threshold else 0 for x in y_pred_proba]\n",
    "    fpr, tpr, _ = roc_curve(y_test, y_pred)\n",
    "    auc = roc_auc_score(y_test, y_pred_proba)\n",
    "    # create ROC curve\n",
    "    plt.plot(fpr, tpr, label=\"AUC=\" + str(auc))\n",
    "    plt.plot(fpr, tpr)\n",
    "    plt.ylabel('True Positive Rate')\n",
    "    plt.xlabel('False Positive Rate')\n",
    "    plt.legend(loc=4)\n",
    "    plt.show()"
   ]
  },
  {
   "cell_type": "code",
   "execution_count": null,
   "id": "12dcfdd3",
   "metadata": {},
   "outputs": [],
   "source": [
    "def best_threshold(X_test, y_test):\n",
    "    yhat = clf.predict_proba(X_test)  # predict probabilities\n",
    "    yhat = yhat[:, 1]  # keep probabilities for the positive outcome only\n",
    "    fpr, tpr, thresholds = roc_curve(y_test, yhat)  # calculate roc curves\n",
    "    auc = roc_auc_score(y_test, yhat)\n",
    "    print('Auc=' + str(auc))\n",
    "    gmeans = np.sqrt(tpr * (1 - fpr))  # calculate the g-mean for each threshold\n",
    "    ix = np.argmax(gmeans)  # locate the index of the largest g-mean\n",
    "    print('Best Threshold=%f, G-Mean=%.3f' % (thresholds[ix], gmeans[ix]))\n",
    "    plt.plot([0, 1], [0, 1], linestyle='--', label='No Skill')  # plot the roc curve for the model\n",
    "    plt.plot(fpr, tpr, marker='.', label='Gradient Boosting Aus=' + str(auc))\n",
    "    plt.scatter(fpr[ix], tpr[ix], marker='o', color='black', label='Best')\n",
    "    # axis labels\n",
    "    plt.xlabel('False Positive Rate')\n",
    "    plt.ylabel('True Positive Rate')\n",
    "    plt.legend()\n",
    "    # show the plot\n",
    "    # pyplot.show()\n",
    "    return thresholds[ix]"
   ]
  },
  {
   "cell_type": "code",
   "execution_count": null,
   "id": "131e18ce",
   "metadata": {},
   "outputs": [],
   "source": [
    "def change_threshold(X_test, y_test):\n",
    "    threshold = best_threshold(X_test, y_test)\n",
    "    return threshold"
   ]
  },
  {
   "cell_type": "code",
   "execution_count": null,
   "id": "b70a2c76",
   "metadata": {},
   "outputs": [],
   "source": [
    "def predict_with_new_threshold(threshold, X, clf):\n",
    "    y_pred_proba = clf.predict_proba(X)[::, 1]\n",
    "    y_pred = [1 if x >= threshold else 0 for x in y_pred_proba]\n",
    "    return y_pred"
   ]
  },
  {
   "cell_type": "code",
   "execution_count": null,
   "id": "8b269295",
   "metadata": {},
   "outputs": [],
   "source": [
    "threshold = change_threshold(X_test, y_test)"
   ]
  },
  {
   "cell_type": "code",
   "execution_count": null,
   "id": "b44f80d0",
   "metadata": {},
   "outputs": [],
   "source": [
    "def xai(model, X, class_names):\n",
    "    explainer = shap.Explainer(model, X)\n",
    "    shap_values = explainer(X)\n",
    "    # shap.summary_plot(shap_values, X.values, plot_type=\"bar\", class_names=class_names, feature_names=X.columns,\n",
    "    #                   max_display=15)\n",
    "    shap.summary_plot(shap_values, X.values, feature_names=X.columns, max_display=11)\n",
    "    # shap.dependence_plot(0, shap_values[0], X.values, feature_names=X.columns)\n",
    "    row = 2\n",
    "    # shap.force_plot(explainer.expected_value[0], shap_values[0][row], X.values[row], feature_names=X.columns)\n",
    "    shap.plots.waterfall(shap_values[0], max_display=17)"
   ]
  },
  {
   "cell_type": "code",
   "execution_count": null,
   "id": "27d4e0a2",
   "metadata": {},
   "outputs": [],
   "source": [
    "explainer = shap.Explainer(clf, X)\n",
    "shap_values = explainer(X)"
   ]
  },
  {
   "cell_type": "code",
   "execution_count": null,
   "id": "c9caae9e",
   "metadata": {},
   "outputs": [],
   "source": [
    "shap.summary_plot(shap_values, X.values, plot_type=\"bar\", class_names=class_names, feature_names=X.columns, max_display=15)"
   ]
  },
  {
   "cell_type": "code",
   "execution_count": null,
   "id": "15c5e806",
   "metadata": {},
   "outputs": [],
   "source": [
    "shap.summary_plot(shap_values, X.values, feature_names=X.columns, max_display=11)"
   ]
  },
  {
   "cell_type": "code",
   "execution_count": null,
   "id": "e53cf8a9",
   "metadata": {},
   "outputs": [],
   "source": [
    "shap.plots.waterfall(shap_values[0], max_display=17)"
   ]
  },
  {
   "cell_type": "code",
   "execution_count": null,
   "id": "63b081b8",
   "metadata": {},
   "outputs": [],
   "source": []
  }
 ],
 "metadata": {
  "kernelspec": {
   "display_name": "Python 3 (ipykernel)",
   "language": "python",
   "name": "python3"
  },
  "language_info": {
   "codemirror_mode": {
    "name": "ipython",
    "version": 3
   },
   "file_extension": ".py",
   "mimetype": "text/x-python",
   "name": "python",
   "nbconvert_exporter": "python",
   "pygments_lexer": "ipython3",
   "version": "3.10.9"
  }
 },
 "nbformat": 4,
 "nbformat_minor": 5
}
